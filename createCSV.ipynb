{
 "cells": [
  {
   "cell_type": "code",
   "execution_count": 8,
   "metadata": {},
   "outputs": [],
   "source": [
    "import csv\n",
    "\n",
    "path = './data/audio-mnist'\n",
    "\n",
    "csvArray = [['filename', 'speaker', 'iteration', 'classification']]\n",
    "\n",
    "fileNames = []\n",
    "for speaker in range(1, 61):\n",
    "    for classification in range(10):\n",
    "        for iter in range(50):\n",
    "            if speaker < 10:\n",
    "                fileNames.append(f'{classification}_0{speaker}_{iter}.wav')\n",
    "            else:\n",
    "                fileNames.append(f'{classification}_{speaker}_{iter}.wav')\n",
    "\n",
    "for fileName in fileNames:\n",
    "    digit, speaker, iteration = fileName.split('.')[0].split('_')\n",
    "    csvArray.append([fileName, speaker, iteration, digit])\n",
    "\n",
    "with open('./data/audio-mnist/audioMNIST_annotations.csv', 'w') as f:\n",
    "    csvWriter = csv.writer(f, lineterminator='\\n')\n",
    "    csvWriter.writerows(csvArray)\n",
    "    \n",
    "\n",
    "# 60 people * 50 iterations = 3000 different samples per number * 10 numbers = 30000 samples\n"
   ]
  }
 ],
 "metadata": {
  "kernelspec": {
   "display_name": "Python 3",
   "language": "python",
   "name": "python3"
  },
  "language_info": {
   "codemirror_mode": {
    "name": "ipython",
    "version": 3
   },
   "file_extension": ".py",
   "mimetype": "text/x-python",
   "name": "python",
   "nbconvert_exporter": "python",
   "pygments_lexer": "ipython3",
   "version": "3.11.6"
  }
 },
 "nbformat": 4,
 "nbformat_minor": 2
}
