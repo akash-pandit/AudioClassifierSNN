{
 "cells": [
  {
   "cell_type": "markdown",
   "metadata": {
    "notebookRunGroups": {
     "groupValue": "1"
    }
   },
   "source": [
    "# snnTorch - Classifying Audio with a Convolutional Spiking Neural Network\n",
    "### By Akash Pandit\n"
   ]
  },
  {
   "cell_type": "markdown",
   "metadata": {},
   "source": [
    "The snnTorch tutorial series is based on the following paper. If you find these resources or code useful in your work, please consider citing the following source:\n",
    "\n",
    "> <cite> [Jason K. Eshraghian, Max Ward, Emre Neftci, Xinxin Wang, Gregor Lenz, Girish Dwivedi, Mohammed Bennamoun, Doo Seok Jeong, and Wei D. Lu. \"Training Spiking Neural Networks Using Lessons From Deep Learning\". Proceedings of the IEEE, 111(9) September 2023.](https://ieeexplore.ieee.org/abstract/document/10242251) </cite>"
   ]
  },
  {
   "cell_type": "markdown",
   "metadata": {},
   "source": [
    "# Introduction\n",
    "In this tutorial, we'll be covering the following:\n",
    "- Learning how to parse audio data and train a network with it\n",
    "- Building a custom PyTorch dataset\n",
    "- Methods for transforming audio data\n",
    "- Constructing a CSNN with the `nn.Sequential` container\n",
    "- Training and evaluating results with accuracy, f1, and log loss metrics\n",
    "\n",
    "At the end, hopefully you will have a better understanding of methods of working with audio data and convolutional spiking neural networks with PyTorch and snnTorch.\n",
    "\n",
    "Bonus material:\n",
    "- Constructing a CNN with the `nn.Sequential` container\n",
    "- Evaluating our CSNN against our CNN"
   ]
  },
  {
   "cell_type": "markdown",
   "metadata": {},
   "source": [
    "You will need to have downloaded these libraries prior to running this tutorial:\n",
    "- snntorch\n",
    "- torch\n",
    "- torchaudio\n",
    "- pandas\n",
    "- matplotlib\n",
    "- librosa\n",
    "- (windows users) soundfile\n",
    "- (linux/mac users) sox"
   ]
  },
  {
   "cell_type": "code",
   "execution_count": 1,
   "metadata": {
    "notebookRunGroups": {
     "groupValue": "1"
    }
   },
   "outputs": [],
   "source": [
    "import snntorch as snn\n",
    "from snntorch import surrogate\n",
    "from snntorch import functional as snnfunc\n",
    "from snntorch import utils\n",
    "from snntorch import spikeplot as splt\n",
    "\n",
    "import torch\n",
    "import torch.nn as nn\n",
    "from torchaudio import load\n",
    "from torchaudio import transforms as audioTFs\n",
    "from torch.utils.data import Dataset, DataLoader, random_split\n",
    "\n",
    "from pandas import read_csv\n",
    "import matplotlib.pyplot as plt\n",
    "from librosa import power_to_db\n",
    "from time import perf_counter"
   ]
  },
  {
   "cell_type": "code",
   "execution_count": 2,
   "metadata": {
    "notebookRunGroups": {
     "groupValue": "1"
    }
   },
   "outputs": [
    {
     "data": {
      "text/plain": [
       "device(type='cuda')"
      ]
     },
     "execution_count": 2,
     "metadata": {},
     "output_type": "execute_result"
    }
   ],
   "source": [
    "# set our device for tensor computation\n",
    "device = torch.device(\"cuda\") if torch.cuda.is_available() else \"cpu\"\n",
    "device"
   ]
  },
  {
   "cell_type": "markdown",
   "metadata": {},
   "source": [
    "# 1. Getting Our Data\n",
    "\n",
    "Our dataset for this tutorial has two traits that make it unique to that of the other snnTorch tutorials: 1. It's an external dataset that doesn't come prebuilt with pytorch and 2. It's an audio dataset. Right now, we need to tackle that its not a torch-included dataset.\n",
    "\n",
    "Our dataset can be found and downloaded off of kaggle [here](https://www.kaggle.com/datasets/sripaadsrinivasan/audio-mnist). The kaggle publisher isn't the original author, but the source can be found at [this GitHub link](https://github.com/soerenab/AudioMNIST). Their paper on this topic will be cited below:\n",
    "\n",
    "> <cite> [Sören Becker, Johanna Vielhaben, Marcel Ackermann, Klaus-Robert Müller, Sebastian Lapuschkin, and Wojciech Samek \"AudioMNIST: Exploring Explainable Artificial Intelligence for Audio Analysis on a Simple Benchmark\". Computing Research Repository, abs/1807.03418, 2018.](https://arxiv.org/abs/1807.03418) </cite>\n",
    "\n",
    "#### Manual Download\n",
    "You can download the dataset from the kaggle url in the markdown cell above and move it to this notebook's directory to be used. You'll get a folder called `archive.zip`, simply unzip that folder and you have your data.\n",
    "\n",
    "#### Command Line\n",
    "You can also download the dataset with the kaggle command like api. If you haven't set up kaggle's CLI api on this machine, [follow this guide](https://www.endtoend.ai/tutorial/how-to-download-kaggle-datasets-on-ubuntu/) for any linux-based command line. It'll unzip into a file called `audio-mnist.zip`, and you can unzip it with a quick `$ unzip audio-mnist.zip`.\n",
    "\n",
    "```kaggle datasets download sripaadsrinivasan/audio-mnist```\n",
    "\n",
    "nce we download our dataset, we're going to need to make a custom dataset wrapper class with `__len__` and `__getitem__` magic methods, allowing you to take the length of and index the dataset respectively. One approach to making this dataset is written 2 cells below. For this approach, an annotations file will also be needed, the below cell will quickly generate one in our data folder from the dataset."
   ]
  },
  {
   "cell_type": "code",
   "execution_count": 3,
   "metadata": {},
   "outputs": [],
   "source": [
    "speaker_count = 60\n",
    "digit_count = 10\n",
    "digit_iters = 50\n",
    "lines = ['filename,speaker,iteration,classification\\n']\n",
    "\n",
    "for speaker in range(speaker_count):\n",
    "    speaker = str(speaker+1) if speaker > 8 else '0'+str(speaker+1)\n",
    "    for digit in range(digit_count):\n",
    "        for iteration in range(digit_iters):\n",
    "            filename = f'{digit}_{speaker}_{iteration}.wav'\n",
    "            lines.append(f'{filename},{speaker},{iteration},{digit}\\n')\n",
    "\n",
    "with open('./data/audioMNIST_annotations.csv', 'w', newline='\\n') as file:\n",
    "    file.writelines(lines)"
   ]
  },
  {
   "cell_type": "code",
   "execution_count": 4,
   "metadata": {
    "ExecuteTime": {
     "end_time": "2023-11-16T09:10:17.479339500Z",
     "start_time": "2023-11-16T09:10:17.474135700Z"
    },
    "notebookRunGroups": {
     "groupValue": "1"
    }
   },
   "outputs": [],
   "source": [
    "# define a dataset superclass for this particular dataset\n",
    "class AudioMNISTDataset(Dataset):\n",
    "    def __init__(self, annotations_file, audio_dir) -> None:\n",
    "        self.annotations = read_csv(annotations_file)\n",
    "        self.audio_dir = audio_dir\n",
    "        \n",
    "    def __len__(self):\n",
    "        return len(self.annotations)\n",
    "\n",
    "    def __getitem__(self, index):\n",
    "        audio_file_path = self.getAudioPath(index=index)\n",
    "        label = self.annotations.loc[index, 'classification']\n",
    "        waveform, _ = load(audio_file_path)\n",
    "\n",
    "        return waveform, label\n",
    "    \n",
    "    def getAudioPath(self, index):\n",
    "        audio_file_name = self.annotations.loc[index, 'filename']\n",
    "        speaker = str(self.annotations.loc[index, 'speaker'])\n",
    "        if len(speaker) != 2:\n",
    "            speaker = '0' + speaker\n",
    "\n",
    "        audio_file_path = f'{self.audio_dir}/{speaker}/{audio_file_name}'\n",
    "        return audio_file_path\n",
    "    \n",
    "\n",
    "# initialize dataset parameters\n",
    "annotations_file_path = './data/audioMNIST_annotations.csv'\n",
    "audio_dir_path = './data'\n",
    "\n",
    "# initialize dataset\n",
    "audio_dataset = AudioMNISTDataset(annotations_file=annotations_file_path, audio_dir=audio_dir_path)"
   ]
  },
  {
   "cell_type": "markdown",
   "metadata": {},
   "source": [
    "There's a small problem though: our audio files are of differing lengths, most are nearly 1 second long (48000 samples at a 48000/s sample rate) but none are over the length (see below cell). \n",
    "\n",
    "We want to make sure each sample is of equal length to avoid the model spontaneously combusting because data entries aren't uniform in length. To do this without removing any existing features is to pad every file with some zeros.\n",
    "\n",
    "What's the padding threshold? We're arbitrarily picking 48000 samples as given our 48000 sampling rate, that makes a file of exactly 1 second long while only being 2 samples longer than the largest sample size (see below cell). It will also help with clean dimensions to work with for model construction down the line."
   ]
  },
  {
   "cell_type": "code",
   "execution_count": 5,
   "metadata": {
    "ExecuteTime": {
     "end_time": "2023-11-16T09:19:35.206672300Z",
     "start_time": "2023-11-16T09:19:34.883067400Z"
    },
    "notebookRunGroups": {
     "groupValue": ""
    }
   },
   "outputs": [
    {
     "name": "stdout",
     "output_type": "stream",
     "text": [
      "min: 14073 max: 47998 checked\n"
     ]
    }
   ],
   "source": [
    "# # verify the range of lengths for our audio files\n",
    "min = torch.inf\n",
    "max = 0\n",
    "for i in range(30000):\n",
    "    tLen = len(audio_dataset[i][0][0])\n",
    "    if tLen < min:\n",
    "        min = tLen\n",
    "    if tLen > max:\n",
    "        max = tLen\n",
    "    print(i, '/ 30000 samples checked', end='\\r')\n",
    "\n",
    "print('min:', min, 'max:', max)"
   ]
  },
  {
   "cell_type": "markdown",
   "metadata": {},
   "source": [
    "Feel free to comment out the above cell if you plan on hitting 'Run All' later through the notebook, that cell takes a while to execute and only exists for EDA (exploratory data analysis) purposes, not for any actual functionality."
   ]
  },
  {
   "cell_type": "markdown",
   "metadata": {
    "collapsed": false,
    "notebookRunGroups": {
     "groupValue": ""
    }
   },
   "source": [
    "### 1.1 Installing a Sound Backend\n",
    "\n",
    "If you haven't worked with audio files before on your system, you're going to want to install a sound backend package. \n",
    "\n",
    "For windows users, install soundfile with `pip install soundfile`.\n",
    "\n",
    "For linux based users (Linux, Ubuntu, Mac OS), install the sox package with `pip install sox`. "
   ]
  },
  {
   "cell_type": "markdown",
   "metadata": {},
   "source": [
    "# 2. Transforming Our Data\n",
    "So we want to pad each audio to 48000 samples, how do we do that to the dataset?\n",
    "\n",
    "If we look up to the cell defining AudioMNISTDataset, we'll see some commented out lines. Since this dataset class generates the tensors dynamically as indexed, the transformation would also occur dynamically. To change this dataset, let's redefine the indexing magic method (`__getitem__`) to a redesigned version including the first transformation."
   ]
  },
  {
   "cell_type": "code",
   "execution_count": 6,
   "metadata": {
    "notebookRunGroups": {
     "groupValue": "1"
    }
   },
   "outputs": [
    {
     "name": "stdout",
     "output_type": "stream",
     "text": [
      "First Audio Vector Length: 35877\n",
      "First Audio Vector Length (Post-padding): 48000\n"
     ]
    }
   ],
   "source": [
    "def padAudio(waveform: torch.TensorType):\n",
    "    \"\"\"Pad a column waveform (torch.Tensor([[x1, x2, ... xn]])) with 0s\n",
    "    up to a duration of 1 second (48000 samples)\"\"\"\n",
    "    wf = waveform.flatten()\n",
    "    return torch.cat((wf, torch.zeros(48000-len(wf)))).unsqueeze(dim=0)\n",
    "\n",
    "def getPaddedAudio(self, index):\n",
    "    audio_file_path = self.getAudioPath(index=index)\n",
    "    label = str(self.annotations.loc[index, 'classification'])\n",
    "    waveform, _ = load(audio_file_path)\n",
    "\n",
    "    # apply transforms\n",
    "    waveform = padAudio(waveform)\n",
    "\n",
    "    return waveform, label\n",
    "\n",
    "# get audio vector length with old __getitem__ method\n",
    "print('First Audio Vector Length:', len(audio_dataset[0][0][0]))\n",
    "\n",
    "AudioMNISTDataset.__getitem__ = getPaddedAudio\n",
    "audio_dataset = AudioMNISTDataset(annotations_file=annotations_file_path, audio_dir=audio_dir_path)\n",
    "\n",
    "# get audio vector length with new __getitem__ method\n",
    "print('First Audio Vector Length (Post-padding):', len(audio_dataset[0][0][0]))"
   ]
  },
  {
   "cell_type": "markdown",
   "metadata": {},
   "source": [
    "Let's get an idea of how the audio actually looks graphed out:\n",
    "\n",
    "In the below cell, we have a function that can plot our waves onto a graph. Feel free to mess with the `minIter`, `maxIter`, and `step` variables to view different waveform graphs. A guide is written in the comments above where you can see how many iterations it will take for a new digit or speaker."
   ]
  },
  {
   "cell_type": "code",
   "execution_count": 7,
   "metadata": {
    "ExecuteTime": {
     "end_time": "2023-11-16T08:40:41.792318700Z",
     "start_time": "2023-11-16T08:40:41.014500400Z"
    },
    "notebookRunGroups": {
     "groupValue": "1"
    }
   },
   "outputs": [
    {
     "data": {
      "image/png": "[encoded data removed]",
      "text/plain": [
       "<Figure size 640x480 with 1 Axes>"
      ]
     },
     "metadata": {},
     "output_type": "display_data"
    }
   ],
   "source": [
    "def plot_waveform(waveform, sample_rate, title=\"Waveform\", xlim=None, ylim=None):\n",
    "    waveform = waveform.numpy()\n",
    "\n",
    "    num_channels, num_frames = waveform.shape\n",
    "    time_axis = torch.arange(0, num_frames) / sample_rate\n",
    "\n",
    "    figure, axes = plt.subplots(num_channels, 1)\n",
    "    if num_channels == 1:\n",
    "        axes = [axes]\n",
    "    for c in range(num_channels):\n",
    "        axes[c].plot(time_axis, waveform[c], linewidth=1)\n",
    "        axes[c].grid(True)\n",
    "        if num_channels > 1:\n",
    "            axes[c].set_ylabel(f'Channel {c+1}')\n",
    "        if xlim:\n",
    "            axes[c].set_xlim(xlim)\n",
    "        if ylim:\n",
    "            axes[c].set_ylim(ylim)\n",
    "    figure.suptitle(title)\n",
    "    plt.show(block=False)\n",
    "\n",
    "\n",
    "# every 50 files: new digit, iterations reset\n",
    "# every 500 files: new speaker, digits & iterations reset\n",
    "# total speakers: 60, total files: 30000\n",
    "minIter = 0\n",
    "maxIter = 500\n",
    "step = 500\n",
    "for i in range(minIter, maxIter, step):\n",
    "    plot_waveform(audio_dataset[i][0], 48000, title=f'Speaker: 1, Iteration: 1, Digit: {i//50}')"
   ]
  },
  {
   "cell_type": "markdown",
   "metadata": {},
   "source": [
    "That's one example of what we can expect each digit's waveform to look. However, one of the most useful features in sound classification is its mel-spectrogram. Mel-spectrograms are often used in deep learning applications in audio transformation, and is the method I'll be using in this notebook. \n",
    "\n",
    "Spectrograms are a way to visualize audio data in 3 dimensions: the x coordinate is your time scale, the y coordinate is your frequency (or frequency bin) and your z coordinate (or the color of a point) represents the strength of the presence of a frequency at time x.\n",
    "\n",
    "Since the way hertz are interpreted is nonlinear (as humans perceive lower frequencies better than higher frequencies), the mel transform was devised to make it so that an increase of m Hz would make the sound to be perceived as n times louder, no matter if the difference is between 100 and 100+n Hz or 1000 and 1000+n Hz. "
   ]
  },
  {
   "cell_type": "code",
   "execution_count": 8,
   "metadata": {
    "notebookRunGroups": {
     "groupValue": "1"
    }
   },
   "outputs": [],
   "source": [
    "# define a spectrogram transform\n",
    "mel_spectrogram = audioTFs.MelSpectrogram(\n",
    "    sample_rate=48000,\n",
    "    n_mels=64,\n",
    "    n_fft=1024\n",
    ")"
   ]
  },
  {
   "cell_type": "markdown",
   "metadata": {},
   "source": [
    "Let's plot some of our spectrograms. The function below allows us to plot data passed to our transform defined above. Feel free to toy with minIter, maxIter, and step to plot whichever files you wish. For example, to plot the first iteration each speaker says the digit 0, minIter remains at 0, maxIter goes to 30000, and step gets set to 500.\n",
    "\n",
    "If you plot a large amount of graphs and scroll through them really quickly, you can see how each digit's spectrograms roughly resemble each other and how they differentiate from other digits, despite factors such as the accents of each speaker."
   ]
  },
  {
   "cell_type": "code",
   "execution_count": 9,
   "metadata": {
    "notebookRunGroups": {
     "groupValue": ""
    }
   },
   "outputs": [
    {
     "data": {
      "image/png": "[encoded data removed]",
      "text/plain": [
       "<Figure size 640x480 with 2 Axes>"
      ]
     },
     "metadata": {},
     "output_type": "display_data"
    }
   ],
   "source": [
    "def plot_spectrogram(spectrogram, filenum):\n",
    "    fig, axs = plt.subplots(1, 1)\n",
    "    axs.set_title(f'Speaker: {filenum//500+1}, Digit: {(filenum//50)%10}, Iter: {filenum%50+1} Mel Spectrogram')\n",
    "    axs.set_ylabel('Mel Blocks')\n",
    "    axs.set_xlabel('frame')\n",
    "    im = axs.imshow(power_to_db(spectrogram), origin='lower', aspect='auto')\n",
    "    fig.colorbar(im, ax=axs).set_label('dB')\n",
    "    plt.show(block=False)\n",
    "\n",
    "# every 50 files: new digit, iterations reset\n",
    "# every 500 files: new speaker, digits & iterations reset\n",
    "# total speakers: 60, total files: 30000\n",
    "minIter = 0\n",
    "maxIter = 50\n",
    "step = 50\n",
    "\n",
    "for i in range(minIter, maxIter, step):\n",
    "    aud_tensor = audio_dataset[i][0][0]\n",
    "    spec = mel_spectrogram(aud_tensor)\n",
    "    plot_spectrogram(spectrogram=spec, filenum=i)"
   ]
  },
  {
   "cell_type": "markdown",
   "metadata": {},
   "source": [
    "Let's just confirm all our spectrogram tensors are the same size so our model doesn't have a stroke..."
   ]
  },
  {
   "cell_type": "code",
   "execution_count": 10,
   "metadata": {},
   "outputs": [
    {
     "name": "stdout",
     "output_type": "stream",
     "text": [
      "torch.Size([64, 94])\n"
     ]
    }
   ],
   "source": [
    "size = mel_spectrogram(audio_dataset[0][0][0]).size()\n",
    "print(size)\n",
    "\n",
    "for i in range(30000):\n",
    "    assert mel_spectrogram(audio_dataset[i][0][0]).size() == size"
   ]
  },
  {
   "cell_type": "markdown",
   "metadata": {},
   "source": [
    "As machine learning models tend to work best when data is normalized in the [0, 1] range, we're going to also provide a normalization transform at the same time. Just as when padding the audio tensors with 0s was introduced, we will take the `getNormalizedSpec()` function and re-define our class' `__getitem__()` indexing method."
   ]
  },
  {
   "cell_type": "code",
   "execution_count": 11,
   "metadata": {
    "notebookRunGroups": {
     "groupValue": "1"
    }
   },
   "outputs": [],
   "source": [
    "def Normalize01Tensor(tensor):\n",
    "    return (tensor - tensor.min()) / (tensor.max() - tensor.min())\n",
    "\n",
    "def getNormalizedSpec(self, index):\n",
    "    # grab raw audio waveform tensor\n",
    "    audio_file_path = self.getAudioPath(index=index)\n",
    "    label = self.annotations.loc[index, 'classification']\n",
    "    waveform, _ = load(audio_file_path)\n",
    "\n",
    "    # pad 0s\n",
    "    waveform = padAudio(waveform)\n",
    "    # spectrogram transformation\n",
    "    spec_tensor = mel_spectrogram(waveform[0])  # remembering that our mel spectrogram transform worked with flattened data, [[data]][0] == [data]\n",
    "    spec_tensor = torch.Tensor(power_to_db(spec_tensor)).unsqueeze(dim=0)\n",
    "\n",
    "    # normalization\n",
    "    return Normalize01Tensor(spec_tensor), label\n",
    "\n",
    "\n",
    "# copied from padded audio cell to allow reusability without having to run that cell again\n",
    "AudioMNISTDataset.__getitem__ = getPaddedAudio\n",
    "audio_dataset = AudioMNISTDataset(annotations_file=annotations_file_path, audio_dir=audio_dir_path)\n",
    "\n",
    "# apply transform to dataset\n",
    "AudioMNISTDataset.__getitem__ = getNormalizedSpec\n",
    "audio_dataset = AudioMNISTDataset(annotations_file=annotations_file_path, audio_dir=audio_dir_path)"
   ]
  },
  {
   "cell_type": "markdown",
   "metadata": {},
   "source": [
    "Now that we've finished applying our three transforms, we can build our train and test splits for our dataset and dataloaders. The split will ensure that the model will not be tested on any data that will be used for training, preventing it from learning its testing data prior to evaluation. The dataloaders will package our data neatly into batches whose contents can be used by our model to train itself in parallel."
   ]
  },
  {
   "cell_type": "code",
   "execution_count": 12,
   "metadata": {
    "notebookRunGroups": {
     "groupValue": "1"
    }
   },
   "outputs": [
    {
     "data": {
      "text/plain": [
       "torch.Size([128, 1, 64, 94])"
      ]
     },
     "execution_count": 12,
     "metadata": {},
     "output_type": "execute_result"
    }
   ],
   "source": [
    "\"\"\"\n",
    "Split the finally transformed data into train and test sets and wrap them in dataloaders\n",
    "\"\"\"\n",
    "train_data, test_data = random_split(dataset=audio_dataset, lengths=(24000, 6000))\n",
    "train_loader = DataLoader(train_data, batch_size=128, shuffle=False, drop_last=True)\n",
    "test_loader = DataLoader(test_data, batch_size=128, shuffle=False, drop_last=True)\n",
    "\n",
    "\"\"\"Confirm the size of our batches\"\"\"\n",
    "train_batch, _ = next(iter(train_loader))\n",
    "train_batch.size()  # output format: torch.Size([batches, channels, height, width])"
   ]
  },
  {
   "cell_type": "markdown",
   "metadata": {},
   "source": [
    "# 3. Defining Our Model\n",
    "I'll be using an architecture inspired by [Tutorial 6](https://snntorch.readthedocs.io/en/latest/tutorials/tutorial_6.html) on the snnTorch docs:\n",
    "\n",
    "12C5-MP3-32C5-MP2-32C5-1152FC10\n",
    "\n",
    "- `M`C`N` is a `N`x`N` convolutional kernel with `M` output channels\n",
    "- MP`N` is a `N`x`N` max pooling function\n",
    "- `M`FC`N` is a fully-connected layer that maps `M` neurons to `N` outputs. \n",
    "\n",
    "Convolutional kernels and fully connected layers must receive inputs of width `M` so the underlying matrix multiplication can run.\n",
    "\n",
    "I've tweaked with the `beta` and spike grad `slope` hyperparameters and landed on 0.55 and 15 respectively as solid values for training this model."
   ]
  },
  {
   "cell_type": "code",
   "execution_count": 13,
   "metadata": {
    "notebookRunGroups": {
     "groupValue": "1"
    }
   },
   "outputs": [],
   "source": [
    "# set model hyperparameters\n",
    "beta = 0.55\n",
    "spike_grad = surrogate.fast_sigmoid(slope=15)\n",
    "num_steps = 50\n",
    "\n",
    "# dims (h*w) of 1 input tensor in batch\n",
    "# input: 64*94\n",
    "# post 1st conv2d: 60*90\n",
    "# post 1st maxpool2d: 20*30\n",
    "# post 2nd conv2d: 16*26\n",
    "# post 2nd maxpool2d: 8*13\n",
    "# post 3rd conv2d: 4*9\n",
    "\n",
    "model = nn.Sequential(\n",
    "    nn.Conv2d(1, 12, 5),\n",
    "    nn.MaxPool2d(3),\n",
    "    snn.Leaky(beta=beta, spike_grad=spike_grad, init_hidden=True),\n",
    "    nn.Conv2d(12, 32, 5),\n",
    "    nn.MaxPool2d(2),\n",
    "    snn.Leaky(beta=beta, spike_grad=spike_grad, init_hidden=True),\n",
    "    nn.Conv2d(32, 32, 5),\n",
    "    nn.Flatten(),\n",
    "    nn.Linear(32*4*9, 10),\n",
    "    snn.Leaky(beta=beta, spike_grad=spike_grad, init_hidden=True, output=True)\n",
    ").to(device=device)"
   ]
  },
  {
   "cell_type": "markdown",
   "metadata": {},
   "source": [
    "Since we're using a `nn.Sequential` container for our model instead of wrapping it in a class, we need to define our own forward pass function. In every forward pass, output spikes are collected from the model and recorded for each number of steps passed to the function. Running the below cell once won't train our model entirely, it'll only pass through one given batch of data. However, this `forward_pass` function will be essential for our training loop. "
   ]
  },
  {
   "cell_type": "code",
   "execution_count": 14,
   "metadata": {
    "notebookRunGroups": {
     "groupValue": "1"
    }
   },
   "outputs": [],
   "source": [
    "def forward_pass(net, num_steps, data):\n",
    "    mem_rec = []\n",
    "    spk_rec = []\n",
    "    utils.reset(net)  # resets hidden states for all LIF neurons in net\n",
    "\n",
    "    for step in range(num_steps):\n",
    "        spk_out, mem_out = net(data)\n",
    "        spk_rec.append(spk_out)\n",
    "        mem_rec.append(mem_out)\n",
    "\n",
    "    return torch.stack(spk_rec), torch.stack(mem_rec)\n",
    "\n",
    "# take a forward pass\n",
    "data, targets = next(iter(train_loader))\n",
    "data = data.to(device)\n",
    "targets = torch.Tensor([int(num) for num in targets]).type(torch.long).to(device)\n",
    "spk_rec, mem_rec = forward_pass(net=model, num_steps=100, data=data)"
   ]
  },
  {
   "cell_type": "markdown",
   "metadata": {},
   "source": [
    "Beyond moving forward, we'll need to define our loss function. This will be essential for determining just how far off our predictions are from their mark, and those distances will be what's used to train our learnable weights for better predictions."
   ]
  },
  {
   "cell_type": "code",
   "execution_count": 15,
   "metadata": {
    "notebookRunGroups": {
     "groupValue": "1"
    }
   },
   "outputs": [
    {
     "name": "stdout",
     "output_type": "stream",
     "text": [
      "The loss from an untrained network is 2.303\n",
      "The accuracy of a single batch using an untrained network is 9.375%\n"
     ]
    }
   ],
   "source": [
    "\"\"\"\n",
    "Define loss functions and values and accuracy\n",
    "\"\"\"\n",
    "\n",
    "loss_fn = snnfunc.ce_rate_loss()\n",
    "loss_val = loss_fn(spk_rec, targets)\n",
    "print(f\"The loss from an untrained network is {loss_val.item():.3f}\")\n",
    "acc = snnfunc.accuracy_rate(spk_rec, targets)\n",
    "print(f\"The accuracy of a single batch using an untrained network is {acc*100:.3f}%\")"
   ]
  },
  {
   "cell_type": "markdown",
   "metadata": {},
   "source": [
    "To calculate the accuracy of our model, we'll be using a modified version of the `batch_accuracy` function from [Tutorial 6](https://snntorch.readthedocs.io/en/latest/tutorials/tutorial_6.html). As we're passing data to our model in batches, we have an accuracy function that can evaluate our average batch accuracy rather than the accuracy of each individual data point."
   ]
  },
  {
   "cell_type": "code",
   "execution_count": 16,
   "metadata": {
    "notebookRunGroups": {
     "groupValue": "1"
    }
   },
   "outputs": [],
   "source": [
    "\"\"\"\n",
    "Defining a function that finds the accuracy across an entire batch of data\n",
    "\"\"\"\n",
    "\n",
    "def batch_accuracy(train_loader, net, num_steps):\n",
    "    with torch.no_grad():\n",
    "        total = 0\n",
    "        acc = 0\n",
    "        net.eval()\n",
    "\n",
    "        train_loader = iter(train_loader)\n",
    "        for data, targets in train_loader:\n",
    "            data = data.to(device)\n",
    "            targets = torch.Tensor([int(label) for label in targets])\n",
    "            targets = targets.to(device).type(torch.long)\n",
    "            spk_rec, _ = forward_pass(net, num_steps, data)\n",
    "\n",
    "            acc += snnfunc.accuracy_rate(spk_rec, targets) * spk_rec.size(1)\n",
    "            total += spk_rec.size(1)\n",
    "\n",
    "    return acc/total"
   ]
  },
  {
   "cell_type": "markdown",
   "metadata": {},
   "source": [
    "# 4. Training the model\n",
    "Now that we have a model, let's get to training it. Our training method is a modified version of that which appears in [Tutorial 6](https://snntorch.readthedocs.io/en/latest/tutorials/tutorial_6.html), modified to work with this model. Training occurs in a nested loop, with the train loader's data:target pairs being iterated over for however many epochs we decide to train for. This model converges a little slow, so I have 5 epochs put down. 5 epochs will take a while though (with a 12GB NVIDIA RTX 3060 it took ~30 minutes), so feel free to drop that epoch count.\n",
    "\n",
    "The model will initialize its data and targets and execute a forward pass for 50 steps for that batch. Afterwards, loss is calculated and used to optimize our learnable parameters in a janky, snn-ified backpropogation step. Every 50 steps, the model will pause its training and have its accuracy evaluated, stored, and printed to the console. At the end of each batch, the accuracy will be evaluated and printed again. This process loops until the train loader is fully passed through for every epoch, leaving you with a trained model."
   ]
  },
  {
   "cell_type": "code",
   "execution_count": 17,
   "metadata": {
    "notebookRunGroups": {
     "groupValue": "1"
    }
   },
   "outputs": [
    {
     "name": "stdout",
     "output_type": "stream",
     "text": [
      "beta: 0.55 spike grad slope: 15 learning rate: 0.005 device: cuda \n",
      "\n",
      "Iteration 0, Test Acc: 10.34%, Batch Time: 15.784s, Total Time: 15.784s, Epoch 0\n",
      "\n",
      "Iteration 50, Test Acc: 70.92%, Batch Time: 31.604s, Total Time: 47.388s, Epoch 0\n",
      "\n",
      "Iteration 100, Test Acc: 82.12%, Batch Time: 30.211s, Total Time: 77.6s, Epoch 0\n",
      "\n",
      "Iteration 150, Test Acc: 93.24%, Batch Time: 36.053s, Total Time: 113.653s, Epoch 0\n",
      "\n",
      "Iteration 187, Test Acc: 92.22%, Batch Time: 34.98s, Total Time: 148.633s, END OF EPOCH 0\n",
      "\n",
      "Iteration 200, Test Acc: 92.49%, Batch Time: 15.734s, Total Time: 164.367s, Epoch 1\n",
      "\n",
      "Iteration 250, Test Acc: 94.02%, Batch Time: 36.93s, Total Time: 201.296s, Epoch 1\n",
      "\n",
      "Iteration 300, Test Acc: 95.81%, Batch Time: 37.578s, Total Time: 238.875s, Epoch 1\n",
      "\n",
      "Iteration 350, Test Acc: 95.35%, Batch Time: 39.707s, Total Time: 278.582s, Epoch 1\n",
      "\n",
      "Iteration 374, Test Acc: 95.58%, Batch Time: 22.131s, Total Time: 300.713s, END OF EPOCH 1\n",
      "\n",
      "Iteration 400, Test Acc: 95.21%, Batch Time: 26.914s, Total Time: 327.627s, Epoch 2\n",
      "\n",
      "Iteration 450, Test Acc: 96.52%, Batch Time: 32.315s, Total Time: 359.942s, Epoch 2\n",
      "\n",
      "Iteration 500, Test Acc: 96.30%, Batch Time: 30.563s, Total Time: 390.504s, Epoch 2\n",
      "\n",
      "Iteration 550, Test Acc: 96.96%, Batch Time: 41.025s, Total Time: 431.529s, Epoch 2\n",
      "\n",
      "Iteration 561, Test Acc: 97.08%, Batch Time: 17.352s, Total Time: 448.881s, END OF EPOCH 2\n",
      "\n",
      "Iteration 600, Test Acc: 96.08%, Batch Time: 37.995s, Total Time: 486.875s, Epoch 3\n",
      "\n",
      "Iteration 650, Test Acc: 96.94%, Batch Time: 44.928s, Total Time: 531.804s, Epoch 3\n",
      "\n",
      "Iteration 700, Test Acc: 97.62%, Batch Time: 38.809s, Total Time: 570.613s, Epoch 3\n",
      "\n",
      "Iteration 748, Test Acc: 97.64%, Batch Time: 42.439s, Total Time: 613.052s, END OF EPOCH 3\n",
      "\n",
      "Iteration 750, Test Acc: 97.13%, Batch Time: 12.901s, Total Time: 625.954s, Epoch 4\n",
      "\n",
      "Iteration 800, Test Acc: 97.27%, Batch Time: 42.668s, Total Time: 668.621s, Epoch 4\n",
      "\n",
      "Iteration 850, Test Acc: 95.92%, Batch Time: 29.11s, Total Time: 697.731s, Epoch 4\n",
      "\n",
      "Iteration 900, Test Acc: 97.67%, Batch Time: 29.14s, Total Time: 726.871s, Epoch 4\n",
      "\n",
      "Iteration 935, Test Acc: 98.00%, Batch Time: 22.083s, Total Time: 748.955s, END OF EPOCH 4\n",
      "\n"
     ]
    }
   ],
   "source": [
    "optimizer = torch.optim.Adam(model.parameters(), lr=5e-3, betas=(0.9, 0.999), fused=device==\"cuda\")\n",
    "num_epochs = 5\n",
    "loss_hist = []\n",
    "test_acc_hist = []\n",
    "counter = 0\n",
    "\n",
    "start_time = exec_time = perf_counter()\n",
    "\n",
    "# Outer training loop\n",
    "print(\"beta:\", beta, \"spike grad slope: 15\", \"learning rate: 0.005\", \"device:\", device, '\\n')\n",
    "for epoch in range(num_epochs):\n",
    "\n",
    "    # Training loop\n",
    "    for data, targets in iter(train_loader):\n",
    "        data = data.to(device)\n",
    "        targets = targets.to(device)\n",
    "\n",
    "        # forward pass\n",
    "        model.to(device=device).train()\n",
    "        spk_rec, _ = forward_pass(model, num_steps, data)\n",
    "\n",
    "        # initialize the loss & sum over time\n",
    "        loss_val = loss_fn(spk_rec, targets)\n",
    "\n",
    "        # Gradient calculation + weight update\n",
    "        optimizer.zero_grad()\n",
    "        loss_val.backward()\n",
    "        optimizer.step()\n",
    "\n",
    "        # Store loss history for future plotting\n",
    "        loss_hist.append(loss_val.item())\n",
    "\n",
    "        # Test set\n",
    "        if counter % num_steps == 0:\n",
    "            with torch.no_grad():\n",
    "                model.eval()\n",
    "\n",
    "                # Test set forward pass\n",
    "                test_acc = batch_accuracy(test_loader, model, num_steps)\n",
    "                # TODO: test_f1, test_log_loss\n",
    "                cur_time = perf_counter()\n",
    "                print(f\"Iteration {counter}, Test Acc: {test_acc * 100:.2f}%, Batch Time: {round(cur_time-exec_time, 3)}s, Total Time: {round(cur_time-start_time, 3)}s, Epoch {epoch}\\n\")\n",
    "                exec_time = cur_time\n",
    "                test_acc_hist.append(test_acc.item())\n",
    "\n",
    "        counter += 1\n",
    "    model.eval()\n",
    "    test_acc = batch_accuracy(test_loader, model, num_steps)\n",
    "    cur_time = perf_counter()\n",
    "    print(f\"Iteration {counter}, Test Acc: {test_acc * 100:.2f}%, Batch Time: {round(cur_time-exec_time, 3)}s, Total Time: {round(cur_time-start_time, 3)}s, END OF EPOCH {epoch}\\n\")\n",
    "    exec_time = cur_time\n"
   ]
  },
  {
   "cell_type": "markdown",
   "metadata": {},
   "source": [
    "# 5. Results\n",
    "\n",
    "At the end of 5 epochs with 935 iterations, you should have converged around a testing accuracy of 97.5% At the end of our first epoch, we hit around 92.5% testing accuracy. Let's plot that below with the test accuracy history collected in the training loop:"
   ]
  },
  {
   "cell_type": "code",
   "execution_count": 18,
   "metadata": {},
   "outputs": [
    {
     "data": {
      "image/png": "[encoded data removed]",
      "text/plain": [
       "<Figure size 640x480 with 1 Axes>"
      ]
     },
     "metadata": {},
     "output_type": "display_data"
    }
   ],
   "source": [
    "# Plot Loss\n",
    "test_acc_hist.append(test_acc)\n",
    "fig = plt.figure(facecolor=\"w\")\n",
    "plt.plot(test_acc_hist)\n",
    "plt.grid()\n",
    "plt.title(\"Test Set Accuracy\")\n",
    "plt.xticks(range(19))\n",
    "plt.yticks([i/100 for i in range(0, 100, 5)])\n",
    "plt.xlabel(\"Iterations (Set of 50)\")\n",
    "plt.ylabel(\"Accuracy Score\")\n",
    "plt.show()"
   ]
  },
  {
   "cell_type": "markdown",
   "metadata": {},
   "source": [
    "# 6. Conclusion\n",
    "\n",
    "Congratulations! You've just completed this tutorial on building and training a convolutional spiking neural network on audio data. Hopefully, you now know enough to begin building models of your own to start experimenting with audio data- whether it be new model architectures, different ways of loading in data, new datasets, or even just tuning the hyperparameters.\n",
    "\n",
    "Thank you to Professor Jason Eshraghian for providing this opportunity to build this tutorial."
   ]
  },
  {
   "cell_type": "markdown",
   "metadata": {},
   "source": [
    "# 7. Bonus: Comparing With a Classic CNN\n",
    "\n",
    "Now that we've built and run a convolutional spiking neural network, let's see how it stacks up against a vanilla convolutional neural network.\n",
    "\n",
    "It'll be running a 12C5-MP3-32C5-MP2-32C5-1152FC10 architecture, identical to the spiking network except without the spiking neurons. "
   ]
  },
  {
   "cell_type": "code",
   "execution_count": 19,
   "metadata": {},
   "outputs": [],
   "source": [
    "cnn_model = nn.Sequential(\n",
    "    nn.Conv2d(1, 12, 5),\n",
    "    nn.MaxPool2d(3),\n",
    "    nn.Conv2d(12, 32, 5),\n",
    "    nn.MaxPool2d(2),\n",
    "    nn.Conv2d(32, 64, 5),\n",
    "    nn.Flatten(),\n",
    "    nn.Linear(64*4*9, 10)\n",
    ").to(device=device)"
   ]
  }
 ],
 "metadata": {
  "kernelspec": {
   "display_name": "Python 3",
   "language": "python",
   "name": "python3"
  },
  "language_info": {
   "codemirror_mode": {
    "name": "ipython",
    "version": 3
   },
   "file_extension": ".py",
   "mimetype": "text/x-python",
   "name": "python",
   "nbconvert_exporter": "python",
   "pygments_lexer": "ipython3",
   "version": "3.10.12"
  }
 },
 "nbformat": 4,
 "nbformat_minor": 2
}
